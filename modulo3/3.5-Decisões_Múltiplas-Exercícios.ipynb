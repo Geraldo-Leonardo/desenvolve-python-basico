{
 "cells": [
  {
   "cell_type": "markdown",
   "id": "559687a1",
   "metadata": {},
   "source": [
    "# Módulo 3 - Condicionais\n",
    "\n",
    "## 3.5 - Decisões Múltiplas"
   ]
  },
  {
   "cell_type": "markdown",
   "id": "42f823b3",
   "metadata": {},
   "source": [
    "### Q1.\n",
    "\n",
    "Vamos fazer uma calculadora! Escreva um programa que solicita 3 entradas: o primeiro operando (float), o operador (caracter) e o segundo operando (float). Seu programa deve imprimir o resultado da operação solicitada, entre soma (+), subtração (-), divisão (/), multiplicação (\\*) ou potência (\\*\\*). Seu programa também deve imprimir uma mensagem de erro se a operação solicitada não estiver dentre as opções disponíveis.\n",
    "\n",
    "Seguem alguns exemplos de interação com seu código no terminal. \n",
    "\n",
    "\n",
    "```\n",
    "Digite o primeiro operando: 5.2\n",
    "Digite o operador (+, -, /, *, **): *\n",
    "Digite o segundo operando` 3\n",
    "Resultado: 5.2 * 3.0 = 15.6\n",
    "```\n",
    "\n",
    "```\n",
    "Digite o primeiro operando: 8\n",
    "Digite o operador (+, -, /, *, **): **\n",
    "Digite o segundo operando: 2\n",
    "Resultado: 8.0 * 2.0 = 64.0\n",
    "```\n",
    "\n",
    "```\n",
    "Digite o primeiro operando: 7\n",
    "Digite o operador (+, -, /, *, **): %\n",
    "Digite o segundo operando: 3.4\n",
    "Erro! Operação inválida. \n",
    "```\n",
    "\n",
    "```\n",
    "Digite o primeiro operando: 10\n",
    "Digite o operador (+, -, /, *, **): /\n",
    "Digite o segundo operando: 2.5\n",
    "Resultado: 10.0 / 2.5 = 4.0\n",
    "```\n",
    "\n"
   ]
  },
  {
   "cell_type": "code",
   "execution_count": null,
   "id": "c5b8cd4d",
   "metadata": {},
   "outputs": [],
   "source": [
    "## Escreva e execute seu código aqui\n",
    "num1 = float(input(\"Digite o primeiro número: \"))\n",
    "operador = input(\"Digite um operador (+, -, /, *, **): \")\n",
    "num2 = float(input(\"Digite o segundo número: \"))\n",
    "\n",
    "if operador == \"+\":\n",
    "    resultado = num1 + num2\n",
    "elif operador == \"-\":\n",
    "    resultado = num1 - num2\n",
    "elif operador == \"/\":\n",
    "    if num2 != 0:\n",
    "        resultado = num1 / num2\n",
    "    else:\n",
    "        resultado = \"Erro: Divisão por zero\"\n",
    "elif operador == \"*\":\n",
    "    resultado = num1 * num2\n",
    "elif operador == \"**\":\n",
    "    resultado = num1 ** num2\n",
    "else:\n",
    "    resultado = \"Erro: Operador inválido\"\n",
    "print(resultado)\n",
    "\n",
    "\n"
   ]
  },
  {
   "cell_type": "markdown",
   "id": "d135df39",
   "metadata": {},
   "source": [
    "### Q2.\n",
    "\n",
    "Escreva um programa que leia os comprimentos dos 3 lados de um triângulo e diga se o triângulo é equilátero, isóceles ou escaleno. Regras:\n",
    "- Isóceles: Quaisquer dois lados com o mesmo comprimento\n",
    "- Equilátero: Os três lados tem o mesmo comprimento\n",
    "- Escaleno: Três lados de comprimento diferente \n",
    "\n",
    "Note que a ordem das condições importa! Seguem alguns exemplos de interação com seu código no terminal. \n",
    "\n",
    "```\n",
    "Digite o comprimento do lado 1: 4\n",
    "Digite o comprimento do lado 2: 4\n",
    "Digite o comprimento do lado 3: 6\n",
    "Triângulo: Isóceles\n",
    "```\n",
    "\n",
    "```\n",
    "Digite o comprimento do lado 1: 5\n",
    "Digite o comprimento do lado 2: 5\n",
    "Digite o comprimento do lado 3: 5\n",
    "Triângulo: Equilátero\n",
    "```\n",
    "\n",
    "```\n",
    "Digite o comprimento do lado 1: 7\n",
    "Digite o comprimento do lado 2: 4\n",
    "Digite o comprimento do lado 3: 9\n",
    "Triângulo: Escaleno\n",
    "```\n",
    "\n"
   ]
  },
  {
   "cell_type": "code",
   "execution_count": 2,
   "id": "cfcf9a80",
   "metadata": {},
   "outputs": [
    {
     "name": "stdout",
     "output_type": "stream",
     "text": [
      "Lado 1: 50\n",
      "Lado 2: 50\n",
      "Lado 3: 50\n",
      "Este é um triângulo Equilátero porque tem três lados iquais !\n"
     ]
    }
   ],
   "source": [
    "## Escreva e execute seu código aqui\n",
    "triangulo_lado1 = input(\"Digite o comprimento do primeiro lado do triângulo: \"); print(f\"Lado 1: {triangulo_lado1}\")\n",
    "triangulo_lado2 = input(\"Digite o comprimento do segundo lado do triângulo: \"); print(f\"Lado 2: {triangulo_lado2}\")\n",
    "triangulo_lado3 = input(\"Digite o comprimento do terceiro lado do triângulo: \"); print(f\"Lado 3: {triangulo_lado3}\")\n",
    "\n",
    "isoceles = triangulo_lado1 == triangulo_lado2 != triangulo_lado3 \\\n",
    "        or triangulo_lado1 != triangulo_lado2 == triangulo_lado3 \\\n",
    "        or triangulo_lado1 == triangulo_lado3 != triangulo_lado2\n",
    "equilatero = triangulo_lado1 == triangulo_lado2 == triangulo_lado3\n",
    "escaleno = triangulo_lado1 != triangulo_lado2 != triangulo_lado3\n",
    "\n",
    "if isoceles:\n",
    "    print(\"Este é um triângulo Isóceles porque tem dois lados iquais !\")\n",
    "\n",
    "elif equilatero:\n",
    "    print(\"Este é um triângulo Equilátero porque tem três lados iquais !\")\n",
    "    \n",
    "elif escaleno:\n",
    "    print(\"Este é um triângulo Escaleno porque tem três lados diferentes !\")\n",
    "\n"
   ]
  },
  {
   "cell_type": "markdown",
   "id": "ed3405fb",
   "metadata": {},
   "source": [
    "### Q3.\n",
    "\n",
    "Você está desenvolvendo um sistema de avaliação de desempenho para um jogo. Escreva um programa em Python que avalia a pontuação do jogador em uma missão e atribui uma classificação com base nas seguintes condições:\n",
    "\n",
    "- Se a pontuação for menor que 70, atribua a classificação \"Insatisfatório\".\n",
    "- Se a pontuação for maior ou igual a 70, atribua a classificação \"Regular\".\n",
    "- Se a pontuação for maior ou igual a 80, atribua a classificação \"Bom\".\n",
    "- Se a pontuação for maior ou igual a 90, atribua a classificação \"Excelente\".\n",
    "\n",
    "Escreva um programa que solicita ao usuário a pontuação e imprime a classificação correspondente."
   ]
  },
  {
   "cell_type": "code",
   "execution_count": 27,
   "id": "a7a842ae",
   "metadata": {},
   "outputs": [
    {
     "name": "stdout",
     "output_type": "stream",
     "text": [
      "Avaliação: 90.0\n",
      "Excelente\n"
     ]
    }
   ],
   "source": [
    "## Escreva e execute seu código aqui\n",
    "avaliação = float(input(\"Digite pontuação do jogador, (0-100): \"))\n",
    "print(f\"Avaliação: {avaliação}\")\n",
    "\n",
    "if  avaliação < 70:\n",
    "    classificação = \"insatisfatório\"\n",
    "    print(classificação)\n",
    "elif 70 <= avaliação < 80:\n",
    "    classificação = \"Regular\"\n",
    "    print(classificação)\n",
    "elif 80 <= avaliação < 90:\n",
    "    classificação = \"Bom\"\n",
    "    print(classificação)\n",
    "elif avaliação >= 90:\n",
    "    classificação = \"Excelente\"\n",
    "    print(classificação)"
   ]
  },
  {
   "cell_type": "markdown",
   "id": "6cafaa50",
   "metadata": {},
   "source": [
    "### Q4.\n",
    "\n",
    "Você está implementando um sistema de desconto em uma loja online. Escreva um programa em Python que calcula o desconto com base no valor total da compra e atribui diferentes níveis de desconto de acordo com as seguintes condições:\n",
    "\n",
    "- Se o valor total da compra for menor que R\\$ 50, não há desconto.\n",
    "- Se o valor total da compra for maior ou igual a R\\$ 50, atribua um desconto de 10%.\n",
    "- Se o valor total da compra for maior ou igual a R\\$ 100, atribua um desconto de 20%.\n",
    "\n",
    "\n",
    "Seguem alguns exemplos de interação com seu código no terminal. Preste atenção na formatação esperada para as saídas.\n",
    "\n",
    "```\n",
    "Digite o valor total da compra: 120\n",
    "Desconto aplicado: 20.0%\n",
    "Valor final com desconto: R$96.00\n",
    "```\n",
    "\n",
    "```\n",
    "Digite o valor total da compra: 65\n",
    "Desconto aplicado: 10.0%\n",
    "Valor final com desconto: R$58.50\n",
    "```\n",
    "\n",
    "```\n",
    "Digite o valor total da compra: 40\n",
    "Desconto aplicado: 0.0%\n",
    "Valor final com desconto: R$40.00\n",
    "```\n",
    "\n",
    "\n"
   ]
  },
  {
   "cell_type": "code",
   "execution_count": null,
   "id": "3b1b1929",
   "metadata": {},
   "outputs": [],
   "source": [
    "## Escreva e execute seu código aqui\n",
    "total_compra = float(input(\"Digite o valor total da compra: \"))\n",
    "print(f\"Valor total da compra: R$ {total_compra:.2f}\")\n",
    "\n",
    "if total_compra < 50:\n",
    "    desconto_aplicado = 0.0\n",
    "    print(f\"Desconto aplicado: {desconto_aplicado}%\")\n",
    "    print(\"Valor final sem desconto: R$ {:.2f}\".format(total_compra))\n",
    "\n",
    "elif 50 <= total_compra < 100:\n",
    "    desconto = total_compra * 0.1\n",
    "    total_com_desconto = total_compra - desconto\n",
    "    desconto_aplicado = 10\n",
    "    print(f\"Desconto aplicado: {desconto_aplicado}%\")\n",
    "    print(f\"Valor final com desconto: R$ {total_com_desconto:.2f}\")\n",
    "\n",
    "elif total_compra >= 100:\n",
    "    desconto = total_compra * 0.2\n",
    "    total_com_desconto = total_compra - desconto\n",
    "    desconto_aplicado = 20\n",
    "    print(f\"Desconto aplicado: {desconto_aplicado}%\")\n",
    "    print(f\"Valor final com desconto: R$ {total_com_desconto:.2f}\")"
   ]
  },
  {
   "cell_type": "markdown",
   "id": "dc5db6d7",
   "metadata": {},
   "source": [
    "### Q5.\n",
    "\n",
    "Crie um sistema de autenticação em Python. O sistema deve funcionar da\n",
    "seguinte maneira:\n",
    "\n",
    "1. Um banco de dados fictício deve ser implementado como um dicionário,\n",
    "onde a chave é o nome do usuário e o valor é uma tupla contendo a senha e\n",
    "o nível de acesso do usuário.\n",
    "\n",
    "2. O programa deve solicitar ao usuário que insira seu usuário e senha.\n",
    "\n",
    "3. O sistema deve:\n",
    "* Verificar se o login existe no banco de dados.\n",
    "* Comparar a senha fornecida com a armazenada no banco.\n",
    "* Caso as credenciais sejam válidas, exibir uma mensagem de sucesso e o nível de acesso do usuário.\n",
    "* Caso seja inválido deverá retornar mensagem: “Erro: Usuário ou\n",
    "senha inválidos.”\n",
    "* O programa deve rodar em um laço para permitir múltiplas\n",
    "tentativas de login, mas também permitir que o usuário opte por sair\n",
    "do programa.\n",
    "\n",
    "Atributos dos 3 usuários cadastrados no sistema (usuário, senha e nível)\n",
    "\n",
    "1) admin – admin123 – Administrador\n",
    "2) usuario1 – senha123 – Usuário Comum\n",
    "3) visitante1 – guest2024 – Visitante"
   ]
  },
  {
   "cell_type": "code",
   "execution_count": null,
   "id": "b90304eb",
   "metadata": {},
   "outputs": [
    {
     "name": "stdout",
     "output_type": "stream",
     "text": [
      "Usuário: admin\n",
      "Senha: sdmin123\n",
      "Erro: Usuário ou senha inválidos.\n"
     ]
    }
   ],
   "source": [
    "## Escreva e execute seu código aqui\n",
    "import getpass\n",
    "user = input(\"Digite o nome de usuário: \")\n",
    "password = getpass.getpass('Digite sua senha: ')\n",
    "print(f\"Usuário: {user}\")     # para verificar se a entrada de dados está correta\n",
    "print(f\"Senha: {password}\")   # para verificar se a entrada de dados está correta\n",
    "dic_user = {\n",
    "    \"admin\":(\"admin123\", \"Administrador\"),\n",
    "    \"usuario1\":(\"senha123\", \"Usuário Comum\"),\n",
    "    \"visitante1\":(\"guest2024\", \"Visitante\")\n",
    "}\n",
    "\n",
    "if user in dic_user and password == dic_user[user][0]:\n",
    "    nivel_acesso = dic_user[user][1]\n",
    "    print(f\"Login bem-sucedido! Bem-vindo, {nivel_acesso}.\")\n",
    "\n",
    "else:\n",
    "    print(\"Erro: Usuário ou senha inválidos.\")"
   ]
  }
 ],
 "metadata": {
  "kernelspec": {
   "display_name": "base",
   "language": "python",
   "name": "python3"
  },
  "language_info": {
   "codemirror_mode": {
    "name": "ipython",
    "version": 3
   },
   "file_extension": ".py",
   "mimetype": "text/x-python",
   "name": "python",
   "nbconvert_exporter": "python",
   "pygments_lexer": "ipython3",
   "version": "3.13.5"
  }
 },
 "nbformat": 4,
 "nbformat_minor": 5
}

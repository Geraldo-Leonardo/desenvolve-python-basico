{
  "cells": [
    {
      "cell_type": "markdown",
      "metadata": {
        "id": "1pCTdOHonv5f"
      },
      "source": [
        "# Módulo 2\n",
        "\n",
        "## 2.3 Instruções e Expressões\n",
        "\n",
        "### Q1\n",
        "\n",
        "Faça um programa que armazene o valor de 20 reais de salário por hora de um trabalhador, e o número de 40 horas trabalhadas na semana. Com essas informações, calcule e imprima:\n",
        "- Salário semanal bruto\n",
        "- Valor descontado por semana INSS (10% do bruto)\n",
        "- Valor descontado por semana pelo sindicato (5% do bruto)\n",
        "- Salário semanal líquido (Bruto - Descontos)"
      ]
    },
    {
      "cell_type": "code",
      "execution_count": 11,
      "metadata": {
        "id": "hVbX0I97nj6M"
      },
      "outputs": [
        {
          "name": "stdout",
          "output_type": "stream",
          "text": [
            "Salário bruto: R$ 800.00\n",
            "Desconto INSS : R$ 80.00\n",
            "Desconto sindicato: R$ 40.00\n",
            "Total de descontos: R$ 120.00\n",
            "Salário semanal liquido: R$ 680.00\n"
          ]
        }
      ],
      "source": [
        "## Escreva e execute seu código aqui\n",
        "\n",
        "salario_hora = 20                              # Valor do salário por hora\n",
        "horas_trabalhadas = 40                         # Horas trabalhadas na semana\n",
        "salario_semanal_bruto = salario_hora * horas_trabalhadas\n",
        "inss = salario_semanal_bruto * 0.10             # 10% de desconto do INSS\n",
        "sindicato = salario_semanal_bruto * 0.05         # 5% de desconto do sindicato\n",
        "descontos = inss + sindicato                     # Total de descontos\n",
        "salario_semanal_liquido = salario_semanal_bruto - descontos   # Salário semanal após descontos\n",
        "\n",
        "print(\"Salário bruto: R$\", \"{:.2f}\" .format(salario_semanal_bruto))\n",
        "print(\"Desconto INSS : R$\", \"{:.2f}\" .format(inss))\n",
        "print(\"Desconto sindicato: R$\", \"{:.2f}\" .format(sindicato))  \n",
        "print(\"Total de descontos: R$\", \"{:.2f}\" .format(descontos))\n",
        "print(\"Salário semanal liquido: R$\", \"{:.2f}\" .format(salario_semanal_liquido))\n"
      ]
    },
    {
      "cell_type": "markdown",
      "metadata": {
        "id": "pIxKX9J2oGZ1"
      },
      "source": [
        "### Q2\n",
        "\n",
        "Altere o programa anterior para a partir dos valores de horas trabalhadas por semana e salário por hora, calcular **em somente duas instruções**:\n",
        "- Salário semanal bruto\n",
        "- Salário semanal líquido com todos os descontos. Para a segunda instrução, realize todos os cálculos aritméticos em uma expressão composta.\n"
      ]
    },
    {
      "cell_type": "code",
      "execution_count": null,
      "metadata": {
        "id": "pAHw9Xf9oGoi"
      },
      "outputs": [
        {
          "name": "stdout",
          "output_type": "stream",
          "text": [
            "Salário bruto: R$ 800.00\n",
            "Salário semanal: R$ 680.00\n"
          ]
        }
      ],
      "source": [
        "## Escreva e execute seu código aqui\n",
        "\n",
        "salario_semanal_bruto = 20 * 40                # Salário semanal bruto\n",
        "salario_semanal_liquido = salario_semanal_bruto - ((salario_semanal_bruto * 0.10 ) + (salario_semanal_bruto * 0.05))  # Salário semanal após descontos\n",
        "\n",
        "print(\"Salário bruto: R$\", \"{:.2f}\" .format(salario_semanal_bruto))\n",
        "print(\"Salário semanal: R$\", \"{:.2f}\" .format(salario_semanal_liquido))\n"
      ]
    },
    {
      "cell_type": "markdown",
      "metadata": {
        "id": "m8tlHRuWpBOB"
      },
      "source": [
        "### Q3\n",
        "\n",
        "Você está desenvolvendo um software de conversão de moeda e precisa calcular o valor equivalente em yuan chinês a partir de uma quantia em real. A taxa de câmbio é de 0.69 BRL (real) para 1 CNY (yuan). Escreva um programa que define em uma variável uma quantia em reais (BRL) e calcula o valor equivalente em yuan (CNY). Imprima o resultado."
      ]
    },
    {
      "cell_type": "code",
      "execution_count": 19,
      "metadata": {
        "id": "2bPw7uF6oeL9"
      },
      "outputs": [
        {
          "name": "stdout",
          "output_type": "stream",
          "text": [
            "R$ 100.00 equivalem a ¥ 69.00\n",
            "R$ 100.00 equivalem a $ 525.00\n"
          ]
        }
      ],
      "source": [
        "## Escreva e execute seu código aqui\n",
        "\n",
        "valor_real = 100.00\n",
        "valor_yuan = 1\n",
        "taxa_cambio = 0.69\n",
        "total_yuan = valor_real * taxa_cambio\n",
        "valor_dollar = 5.25\n",
        "total_dollar = valor_real * valor_dollar\n",
        "\n",
        "print(\"R$ {:.2f} equivalem a ¥ {:.2f}\" .format(valor_real, total_yuan))\n",
        "print(\"R$ {:.2f} equivalem a $ {:.2f}\" .format(valor_real, total_dollar))"
      ]
    },
    {
      "cell_type": "markdown",
      "metadata": {
        "id": "-Na3ltDCp74A"
      },
      "source": [
        "### Q4\n",
        "\n",
        "Você é um treinador de corrida e deseja calcular a velocidade média que um atleta precisa manter para completar a Maratona Internacional de São Silvestre, que tem uma distância total de 42.195 km. A fórmula para calcular a velocidade média ($v\\_media$) é dada por $v\\_media = \\frac{distancia}{tempo}$ . Escreva um programa em Python para calcular a velocidade média necessária para completar a maratona em 3 horas.\n",
        "\n",
        "**Calcule e imprima o resultado em metros/segundo**, ou seja, converta a distância de quilômetros para metros ($metro = \\frac{km}{1000}$) e a velocidade de horas para segundos $(segundo = \\frac{hora}{3600})$."
      ]
    },
    {
      "cell_type": "code",
      "execution_count": 26,
      "metadata": {
        "id": "Bn6l8kcSrE4L"
      },
      "outputs": [
        {
          "name": "stdout",
          "output_type": "stream",
          "text": [
            "Velocidade média: 3.91 m/s\n",
            "42195.0\n",
            "10800\n"
          ]
        }
      ],
      "source": [
        "## Escreva e execute seu código aqui\n",
        "\n",
        "distancia_km = 42.195\n",
        "distancia_metros = distancia_km * 1000\n",
        "tempo_horas = 3  # 3 horas, 5 minutos e 30 segundos\n",
        "tempo_segundos = tempo_horas * 3600\n",
        "veloc_media_metros_por_segundo = distancia_metros / tempo_segundos\n",
        "\n",
        "print(\"Velocidade média: {:.2f} m/s\" .format(veloc_media_metros_por_segundo))\n",
        "print(distancia_metros)\n",
        "print(tempo_segundos)"
      ]
    },
    {
      "cell_type": "code",
      "execution_count": null,
      "metadata": {},
      "outputs": [],
      "source": []
    }
  ],
  "metadata": {
    "colab": {
      "provenance": []
    },
    "kernelspec": {
      "display_name": "base",
      "language": "python",
      "name": "python3"
    },
    "language_info": {
      "codemirror_mode": {
        "name": "ipython",
        "version": 3
      },
      "file_extension": ".py",
      "mimetype": "text/x-python",
      "name": "python",
      "nbconvert_exporter": "python",
      "pygments_lexer": "ipython3",
      "version": "3.13.5"
    }
  },
  "nbformat": 4,
  "nbformat_minor": 0
}

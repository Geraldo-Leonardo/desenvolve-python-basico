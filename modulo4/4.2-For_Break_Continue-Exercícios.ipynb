{
 "cells": [
  {
   "cell_type": "markdown",
   "id": "29e89030",
   "metadata": {},
   "source": [
    "# Módulo 4 - Repetições\n",
    "\n",
    "## Aulas 4.2 - Comando ```for``` e 4.3 Break e Continue"
   ]
  },
  {
   "cell_type": "markdown",
   "id": "a45b42df",
   "metadata": {},
   "source": [
    "### Q1.\n",
    "\n",
    "Crie um programa em Python que utilize o comando for para imprimir os números de 10 a 1, em ordem decrescente."
   ]
  },
  {
   "cell_type": "code",
   "execution_count": 20,
   "id": "55a75b3d",
   "metadata": {},
   "outputs": [
    {
     "name": "stdout",
     "output_type": "stream",
     "text": [
      "10\n",
      "9\n",
      "8\n",
      "7\n",
      "6\n",
      "5\n",
      "4\n",
      "3\n",
      "2\n",
      "1\n",
      "0\n"
     ]
    }
   ],
   "source": [
    "## Escreva e execute seu código aqui\n",
    "cont = 10\n",
    "for cont_decrescente in range(10,-1,-1):\n",
    "    print(cont_decrescente)\n",
    "\n"
   ]
  },
  {
   "cell_type": "markdown",
   "id": "94b47c36",
   "metadata": {},
   "source": [
    "### Q2.\n",
    "\n",
    "Dado um número inteiro positivo informado pelo usuário, crie um programa em Python que utilize o comando for para calcular e exibir a soma dos números de 1 até o número informado. Ou seja, $1 + 2 + 3 + ... + n$\n",
    "\n",
    "Exemplo de interação:\n",
    "```\n",
    "Digite um número: 5\n",
    "A soma dos números de 1 a 5 é 15\n",
    "```\n"
   ]
  },
  {
   "cell_type": "code",
   "execution_count": 3,
   "id": "45b71596",
   "metadata": {},
   "outputs": [
    {
     "name": "stdout",
     "output_type": "stream",
     "text": [
      "A soma dos números de 1 a 6 é 21\n"
     ]
    }
   ],
   "source": [
    "## Escreva e execute seu código aqui\n",
    "#user1 = int(input(\"Digite um número inteiro positivo ou negativo: \"))  # input para teste com números diferentes \n",
    "user = int(input(\"Digite um número inteiro: \"))\n",
    "soma = 0\n",
    "for i in range(1, user + 1):\n",
    "#for i in range(user1, user + 1):  # alterado para usar input user1 para teste da função\n",
    "    #print(i)  # verificar a iteração de i\n",
    "    soma += i\n",
    "print(f\"A soma dos números de 1 a {user} é {soma}\")\n"
   ]
  },
  {
   "cell_type": "markdown",
   "id": "0411d170",
   "metadata": {},
   "source": [
    "### Q3.\n",
    "\n",
    "Escreva um programa que lê 10 valores inteiros positivos do usuário e ao final imprime a média dos valores digitados com duas casas decimais.\n",
    "\n",
    "```\n",
    "Digite 10 números positivos:\n",
    "3\n",
    "2\n",
    "12\n",
    "14\n",
    "20\n",
    "42\n",
    "19\n",
    "0\n",
    "8\n",
    "1\n",
    "A média dos valores digitados é 12.10\n",
    "```"
   ]
  },
  {
   "cell_type": "code",
   "execution_count": null,
   "id": "3f72f358",
   "metadata": {},
   "outputs": [
    {
     "name": "stdout",
     "output_type": "stream",
     "text": [
      "Número 1: 10\n",
      "Número 2: 10\n",
      "Número 3: 10\n",
      "Número 4: 20\n",
      "Número 5: 10\n",
      "Número 6: 20\n",
      "Número 7: 10\n",
      "Número 8: 10\n",
      "Número 9: 10\n",
      "Número 10: 10\n",
      "A soma dos números é 120 e a média é 12.0\n"
     ]
    }
   ],
   "source": [
    "## Escreva e execute seu código aqui\n",
    "user = int(input(\"Digite 10 números inteiros positivos: \"))\n",
    "soma = 0\n",
    "for i in range(10):\n",
    "    print(f\"Número {i + 1}: {user}\")  # printar a iteração de i, entrada do usuário\n",
    "    soma += user\n",
    "    media = soma / 10\n",
    "    user = int(input(\"Digite outro número inteiro positivo: \"))\n",
    "print(f\"A soma dos números é {soma} e a média é {media}\")\n"
   ]
  },
  {
   "cell_type": "markdown",
   "id": "e1306941",
   "metadata": {},
   "source": []
  },
  {
   "cell_type": "markdown",
   "id": "0ccb5589",
   "metadata": {},
   "source": []
  },
  {
   "cell_type": "markdown",
   "id": "d62e27ff",
   "metadata": {},
   "source": [
    "### Q4.\n",
    "\n",
    "Você vai criar um sistema que registra os resultados dos jogos do Atlético MG ao longo de um campeonato. Seu sistema vai receber os resultados de todos os jogos do Galo, e deve calcular a pontuação do time sabendo que vitórias valem 3 pontos, empates 1 ponto e derrotas 0 pontos.\n",
    "\n",
    "Entrada: <br>\n",
    "A primeira linha de entrada é um inteiro N com a quantidade jogos do galo. Para cada jogo você deve ler 2 inteiros, o primeiro com a quantidade de gols do galo e o segundo com a quantidade de gols do time oponente. \n",
    "\n",
    "Saída: <br>\n",
    "Apresente a soma de vitórias, empates e derrotas do galo, junto com o cálculo da pontuação total.\n",
    "\n",
    "Ex:\n",
    "```\n",
    "Entrada:\n",
    "4\n",
    "2\n",
    "0\n",
    "1\n",
    "1\n",
    "0\n",
    "3\n",
    "1\n",
    "0\n",
    "\n",
    "Saída:\n",
    "Vitórias: 2\n",
    "Empates: 1\n",
    "Derrotas: 1\n",
    "Pontuação: 7\n",
    "\n",
    "```\n",
    "\n",
    "\n"
   ]
  },
  {
   "cell_type": "code",
   "execution_count": 13,
   "id": "d3fdfc2a",
   "metadata": {},
   "outputs": [
    {
     "name": "stdout",
     "output_type": "stream",
     "text": [
      "\n",
      "Vitórias, 2 jogos.\n",
      "Empates, 0 jogos.\n",
      "Derrotas, 1 jogos.\n",
      "Pontuação: 6 pontos.\n"
     ]
    }
   ],
   "source": [
    "## Escreva e execute seu código aqui\n",
    "\n",
    "jogos = int(input(\"Digite a quantidade de jogos do Cruzeiro: \"))\n",
    "vitorias = 0\n",
    "empates = 0\n",
    "derrotas = 0\n",
    "pontuacao = 0\n",
    "quantidade_jogos = 0\n",
    "#while quantidade_jogos < jogos:\n",
    "for i in range(jogos):\n",
    "    gols_cruzeiro = int(input(\"Digite o número de gols do Cruzeiro: \"))\n",
    "    gols_adversario = int(input(\"Digite o número de gols do adversário: \"))\n",
    "    if gols_cruzeiro > gols_adversario:\n",
    "        vitorias += 1\n",
    "    elif gols_cruzeiro == gols_adversario:\n",
    "        empates += 1    \n",
    "    elif gols_cruzeiro < gols_adversario:\n",
    "        derrotas += 1\n",
    "    pontuacao = (vitorias*3)+(empates*1)\n",
    "print()\n",
    "print(f\"Vitórias, {vitorias} jogos.\")\n",
    "print(f\"Empates, {empates} jogos.\")\n",
    "print(f\"Derrotas, {derrotas} jogos.\")\n",
    "print(f\"Pontuação: {pontuacao} pontos.\")\n",
    "\n"
   ]
  },
  {
   "cell_type": "markdown",
   "id": "fc98604d",
   "metadata": {},
   "source": [
    "### Q5.\n",
    "\n",
    "Faça um programa que lê dois inteiros N e M, e imprime na tela um campo de batalha naval. O tabuleiro deve possuir N linhas e M colunas. A primeira linha é composta por um espaço em branco e o cabeçalho das colunas, ou seja, valores de 1 a M. As N linhas seguintes iniciam com o cabeçalho da linha, ou seja, seu número, seguido de M caracteres \"/\" (barra) indicando uma possível posição jogável. \n",
    "\n",
    "```\n",
    "Entrada:\n",
    "5\n",
    "4\n",
    "\n",
    "Saída:\n",
    "  1 2 3 4 \n",
    "1 / / / / \n",
    "2 / / / / \n",
    "3 / / / / \n",
    "4 / / / / \n",
    "5 / / / / \n",
    "```\n",
    "\n",
    "Para esse exercício, precisamos lembrar que o comando print implicitamente adiciona uma quebra de linha ao final da impressão. Podemos interferir no final da impressão adicionando mais uma entrada ao print. No exemplo, finalizamos cada linha com um espaço em branco:\n",
    "```python\n",
    "print(\"Texto qualquer\", end = \" \")\n",
    "```"
   ]
  },
  {
   "cell_type": "code",
   "execution_count": 14,
   "id": "a60ef197",
   "metadata": {},
   "outputs": [
    {
     "name": "stdout",
     "output_type": "stream",
     "text": [
      "\n",
      "  1 2 3 4 5 6 \n",
      "1 / / / / / / \n",
      "2 / / / / / / \n",
      "3 / / / / / / \n",
      "4 / / / / / / \n",
      "5 / / / / / / \n",
      "6 / / / / / / \n",
      "\n"
     ]
    }
   ],
   "source": [
    "## Escreva e execute seu código aqui\n",
    "\n",
    "n_linhas = int(input(\"Digite o número de linhas para criar o campo de batalha naval: \"))\n",
    "m_colunas = int(input(\"Agora digite o número da colunas: \"))\n",
    "print()\n",
    "print(\" \", end=\" \")\n",
    "for coluna in range(1, m_colunas + 1):\n",
    "    print(coluna, end=\" \")\n",
    "print()\n",
    "for linha in range(1, n_linhas + 1):\n",
    "    print(linha, end=\" \")\n",
    "    for espacos_jogadas in range(m_colunas):\n",
    "        print(\"/\", end=\" \")\n",
    "    print()\n",
    "print() "
   ]
  },
  {
   "cell_type": "markdown",
   "id": "4654dc0b",
   "metadata": {},
   "source": [
    "---\n",
    "## Break e Continue"
   ]
  },
  {
   "cell_type": "markdown",
   "id": "24fe9d85",
   "metadata": {},
   "source": [
    "### Q6.\n",
    "\n",
    "Escreva um programa que lê uma quantidade indefinida de valores e informa o maior e o menor valor digitados. A leitura é encerrada quando o usuário digitar o valor 0 (zero).\n",
    "\n",
    "```\n",
    "Entrada:\n",
    "12\n",
    "-1\n",
    "29\n",
    "11\n",
    "-5\n",
    "0\n",
    "\n",
    "Saída:\n",
    "Maior: 29\n",
    "Menor: -5\n",
    "```"
   ]
  },
  {
   "cell_type": "code",
   "execution_count": 15,
   "id": "ee1c466a",
   "metadata": {},
   "outputs": [
    {
     "name": "stdout",
     "output_type": "stream",
     "text": [
      "\n",
      "Maior valor: 9\n",
      "Menor valor: -5\n",
      "\n"
     ]
    }
   ],
   "source": [
    "## Escreva e execute seu código aqui\n",
    "\n",
    "maior = None\n",
    "menor = None\n",
    "while True:\n",
    "    valor = int(input(\"Digite uma sequência de números, podem ser positivos ou negativos: \\n \"\n",
    "    \"(Para finalizar digite 0): \"))\n",
    "    if valor == 0:\n",
    "        break\n",
    "    if maior is None or valor > maior:\n",
    "        maior = valor\n",
    "    if menor is None or valor < menor:\n",
    "        menor = valor\n",
    "print()\n",
    "print(f\"Maior valor: {maior}\")\n",
    "print(f\"Menor valor: {menor}\")\n",
    "print()\n",
    "\n"
   ]
  },
  {
   "cell_type": "markdown",
   "id": "30d486f7",
   "metadata": {},
   "source": [
    "### Q7.\n",
    "\n",
    "Escreva um programa que lê uma quantidade indefinida de valores e informa o **produto** dos valores positivos digitados. A leitura é encerrada quando o usuário digitar o valor 0 (zero).\n",
    "\n",
    "```\n",
    "Entrada:\n",
    "2\n",
    "-1\n",
    "1\n",
    "3\n",
    "-5\n",
    "0\n",
    "\n",
    "Saída:\n",
    "Produto: 6\n",
    "```"
   ]
  },
  {
   "cell_type": "code",
   "execution_count": 16,
   "id": "2f1ac324",
   "metadata": {},
   "outputs": [
    {
     "name": "stdout",
     "output_type": "stream",
     "text": [
      "\n",
      "Produto dos valores positivos é : 72\n",
      "\n"
     ]
    }
   ],
   "source": [
    "## Escreva e execute seu código aqui\n",
    "produto = 1\n",
    "while True:\n",
    "    valor = int(input(\"Digite uma sequência de valores positivos ou negativos: \\n \"\n",
    "    \"(Para encerrar digite 0): \"))\n",
    "    if valor == 0:\n",
    "        break\n",
    "    if valor > 0:\n",
    "        produto *= valor\n",
    "print()\n",
    "print(f\"Produto dos valores positivos é : {produto}\")\n",
    "print()\n",
    "\n",
    "\n",
    "\n"
   ]
  },
  {
   "cell_type": "markdown",
   "id": "e932f3cf",
   "metadata": {},
   "source": [
    "### Q8.\n",
    "\n",
    "Vamos fazer uma calculadora que aceita expressões aritméticas de qualquer tamanho até que o usuário digite a palavra \"Fim\". Sua calculadora executa apenas as operações \"+\", \"-\".\n",
    "\n",
    "```\n",
    "Entrada:\n",
    "5\n",
    "+\n",
    "8\n",
    "-\n",
    "3\n",
    "+\n",
    "2\n",
    "Fim\n",
    "\n",
    "Saída:\n",
    "12\n",
    "```"
   ]
  },
  {
   "cell_type": "code",
   "execution_count": 19,
   "id": "e835d870",
   "metadata": {},
   "outputs": [
    {
     "name": "stdout",
     "output_type": "stream",
     "text": [
      "3.0\n",
      "3.0\n",
      "6.0\n",
      "-2.0\n",
      "-1.0\n",
      "Fim\n",
      "\n",
      "O resultado é: 9.0\n",
      "\n"
     ]
    }
   ],
   "source": [
    "## Escreva e execute seu código aqui\n",
    "# Inicializa a variável 'total' com 0.\n",
    "total = 0\n",
    "# Inicia um loop infinito (o \"True\" faz com que o loop sempre inicie).\n",
    "while True:\n",
    "    # Solicita ao usuário que digite um número inteiro.\n",
    "    # O valor digitado é convertido para um número inteiro.\n",
    "    numero = input(\"Digite um número (Para resultado digite 'Fim'): \")\n",
    "    # Verifica se o usuário digitou 'fim' para parar o loop.\n",
    "    if numero.lower() == 'fim':\n",
    "        print(\"Fim\")\n",
    "        break # Sai do loop.\n",
    "\n",
    "    entrada = float(numero)\n",
    "    print(entrada)\n",
    "    # Se o número for positivo, ele é somado ao total.\n",
    "    if entrada > 0:\n",
    "        total += entrada\n",
    "    # Se o número for negativo, ele é subtraído do total.\n",
    "    else:\n",
    "        total += entrada\n",
    "print()\n",
    "# Exibe o resultado final quando o loop termina.\n",
    "print(\"O resultado é:\", total)\n",
    "print()\n"
   ]
  }
 ],
 "metadata": {
  "kernelspec": {
   "display_name": "base",
   "language": "python",
   "name": "python3"
  },
  "language_info": {
   "codemirror_mode": {
    "name": "ipython",
    "version": 3
   },
   "file_extension": ".py",
   "mimetype": "text/x-python",
   "name": "python",
   "nbconvert_exporter": "python",
   "pygments_lexer": "ipython3",
   "version": "3.13.5"
  }
 },
 "nbformat": 4,
 "nbformat_minor": 5
}
